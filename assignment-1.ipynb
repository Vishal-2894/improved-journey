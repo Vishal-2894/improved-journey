{
 "cells": [
  {
   "cell_type": "code",
   "execution_count": 7,
   "id": "b57b5fe3",
   "metadata": {},
   "outputs": [],
   "source": [
    "s = \"this is my first python progamming class and i am learNING python string and its function\""
   ]
  },
  {
   "cell_type": "raw",
   "id": "4b6fd3aa",
   "metadata": {},
   "source": [
    "Q1.Try to extract data from index one to index 300 witha jump of 3"
   ]
  },
  {
   "cell_type": "code",
   "execution_count": 9,
   "id": "c9ec6922",
   "metadata": {},
   "outputs": [
    {
     "data": {
      "text/plain": [
       "'h   r tnrai a d  aI tntna sutn'"
      ]
     },
     "execution_count": 9,
     "metadata": {},
     "output_type": "execute_result"
    }
   ],
   "source": [
    "s[1:300:3]"
   ]
  },
  {
   "cell_type": "markdown",
   "id": "33754931",
   "metadata": {},
   "source": [
    "Q2.Try to reverse a string without using reverse function"
   ]
  },
  {
   "cell_type": "code",
   "execution_count": 11,
   "id": "f4243b11",
   "metadata": {},
   "outputs": [
    {
     "data": {
      "text/plain": [
       "'noitcnuf sti dna gnirts nohtyp GNINrael ma i dna ssalc gnimmagorp nohtyp tsrif ym si siht'"
      ]
     },
     "execution_count": 11,
     "metadata": {},
     "output_type": "execute_result"
    }
   ],
   "source": [
    "s[::-1]"
   ]
  },
  {
   "cell_type": "markdown",
   "id": "ef936c17",
   "metadata": {},
   "source": [
    "Q3.Try to split a string after conversion of entire string in uppercase"
   ]
  },
  {
   "cell_type": "code",
   "execution_count": 13,
   "id": "83d9a4e7",
   "metadata": {},
   "outputs": [
    {
     "data": {
      "text/plain": [
       "['this',\n",
       " 'is',\n",
       " 'my',\n",
       " 'first',\n",
       " 'python',\n",
       " 'progamming',\n",
       " 'class',\n",
       " 'and',\n",
       " 'i',\n",
       " 'am',\n",
       " 'learNING',\n",
       " 'python',\n",
       " 'string',\n",
       " 'and',\n",
       " 'its',\n",
       " 'function']"
      ]
     },
     "execution_count": 13,
     "metadata": {},
     "output_type": "execute_result"
    }
   ],
   "source": [
    "s.split()"
   ]
  },
  {
   "cell_type": "code",
   "execution_count": 17,
   "id": "500c2681",
   "metadata": {},
   "outputs": [
    {
     "data": {
      "text/plain": [
       "'THIS IS MY FIRST PYTHON PROGAMMING CLASS AND I AM LEARNING PYTHON STRING AND ITS FUNCTION'"
      ]
     },
     "execution_count": 17,
     "metadata": {},
     "output_type": "execute_result"
    }
   ],
   "source": [
    "s.upper()"
   ]
  },
  {
   "cell_type": "markdown",
   "id": "2ed64c54",
   "metadata": {},
   "source": [
    "Q4.Try to convert whole string into lower case"
   ]
  },
  {
   "cell_type": "code",
   "execution_count": 19,
   "id": "e9352327",
   "metadata": {},
   "outputs": [
    {
     "data": {
      "text/plain": [
       "'this is my first python progamming class and i am learning python string and its function'"
      ]
     },
     "execution_count": 19,
     "metadata": {},
     "output_type": "execute_result"
    }
   ],
   "source": [
    "s.lower()"
   ]
  },
  {
   "cell_type": "code",
   "execution_count": 10,
   "id": "363b336c",
   "metadata": {},
   "outputs": [],
   "source": [
    "s= \"this is my first python progamming class and i am learning python string and its function\""
   ]
  },
  {
   "cell_type": "markdown",
   "id": "de6857c9",
   "metadata": {},
   "source": [
    "Q5.Try to capaitalize the whole string"
   ]
  },
  {
   "cell_type": "code",
   "execution_count": 11,
   "id": "49ab8592",
   "metadata": {},
   "outputs": [
    {
     "data": {
      "text/plain": [
       "'THIS IS MY FIRST PYTHON PROGAMMING CLASS AND I AM LEARNING PYTHON STRING AND ITS FUNCTION'"
      ]
     },
     "execution_count": 11,
     "metadata": {},
     "output_type": "execute_result"
    }
   ],
   "source": [
    "s.swapcase()"
   ]
  },
  {
   "cell_type": "markdown",
   "id": "a98c70ad",
   "metadata": {},
   "source": [
    "Q6.Write a differcenc betwenn isalnum() and isalpha()"
   ]
  },
  {
   "cell_type": "markdown",
   "id": "f7307ed1",
   "metadata": {},
   "source": [
    "isalpha -: is TRUE when if all characters in the string are alphabets.\n",
    "isalnum -: is TRUE when if characters in the strig are alphanumeric."
   ]
  },
  {
   "cell_type": "markdown",
   "id": "07729f08",
   "metadata": {},
   "source": [
    "Q7.Try to give an example of expand tab"
   ]
  },
  {
   "cell_type": "code",
   "execution_count": 10,
   "id": "cd29ac0c",
   "metadata": {},
   "outputs": [],
   "source": [
    "s1=\"vishal\\t12345\\tsisodiya\""
   ]
  },
  {
   "cell_type": "code",
   "execution_count": 11,
   "id": "a0c6b498",
   "metadata": {},
   "outputs": [
    {
     "data": {
      "text/plain": [
       "'vishal  12345   sisodiya'"
      ]
     },
     "execution_count": 11,
     "metadata": {},
     "output_type": "execute_result"
    }
   ],
   "source": [
    "s1.expandtabs()"
   ]
  },
  {
   "cell_type": "markdown",
   "id": "6f778bec",
   "metadata": {},
   "source": [
    "Q8.Give an example of strip, lstrip and restrip"
   ]
  },
  {
   "cell_type": "code",
   "execution_count": 24,
   "id": "8577d57e",
   "metadata": {},
   "outputs": [],
   "source": [
    "s2= \"   exa  mple  \""
   ]
  },
  {
   "cell_type": "code",
   "execution_count": 25,
   "id": "f75453b5",
   "metadata": {},
   "outputs": [
    {
     "data": {
      "text/plain": [
       "'exa  mple'"
      ]
     },
     "execution_count": 25,
     "metadata": {},
     "output_type": "execute_result"
    }
   ],
   "source": [
    "s2.strip()"
   ]
  },
  {
   "cell_type": "code",
   "execution_count": 26,
   "id": "cbe2ecf3",
   "metadata": {},
   "outputs": [
    {
     "data": {
      "text/plain": [
       "'exa  mple  '"
      ]
     },
     "execution_count": 26,
     "metadata": {},
     "output_type": "execute_result"
    }
   ],
   "source": [
    "s2.lstrip()"
   ]
  },
  {
   "cell_type": "code",
   "execution_count": 27,
   "id": "da837b3d",
   "metadata": {},
   "outputs": [
    {
     "data": {
      "text/plain": [
       "'   exa  mple'"
      ]
     },
     "execution_count": 27,
     "metadata": {},
     "output_type": "execute_result"
    }
   ],
   "source": [
    "s2.rstrip()"
   ]
  },
  {
   "cell_type": "markdown",
   "id": "e123e7bb",
   "metadata": {},
   "source": [
    "Q9.try to give a defination of string center function with and example"
   ]
  },
  {
   "cell_type": "code",
   "execution_count": 32,
   "id": "5cd58bbb",
   "metadata": {},
   "outputs": [],
   "source": [
    "a=\"vishal\""
   ]
  },
  {
   "cell_type": "markdown",
   "id": "f1c397f0",
   "metadata": {},
   "source": [
    "center string-: return a new string padded with the specified character. \n"
   ]
  },
  {
   "cell_type": "code",
   "execution_count": 34,
   "id": "92ab1501",
   "metadata": {},
   "outputs": [
    {
     "data": {
      "text/plain": [
       "'##vishal##'"
      ]
     },
     "execution_count": 34,
     "metadata": {},
     "output_type": "execute_result"
    }
   ],
   "source": [
    "a.center(10,'#')"
   ]
  },
  {
   "cell_type": "markdown",
   "id": "b98e6a41",
   "metadata": {},
   "source": [
    "Q10.Replace a string character by another character by takingyour own example"
   ]
  },
  {
   "cell_type": "code",
   "execution_count": 36,
   "id": "0cba41f7",
   "metadata": {},
   "outputs": [],
   "source": [
    "b=\"sudhanshu\""
   ]
  },
  {
   "cell_type": "code",
   "execution_count": 38,
   "id": "4c239cfd",
   "metadata": {},
   "outputs": [
    {
     "data": {
      "text/plain": [
       "'vishal'"
      ]
     },
     "execution_count": 38,
     "metadata": {},
     "output_type": "execute_result"
    }
   ],
   "source": [
    "b.replace(\"sudhanshu\",\"vishal\")"
   ]
  },
  {
   "cell_type": "raw",
   "id": "0ed5962e",
   "metadata": {},
   "source": [
    "Q11.Write your own definition of complier and interpretor"
   ]
  },
  {
   "cell_type": "markdown",
   "id": "6762e35f",
   "metadata": {},
   "source": [
    "complier & interpretor -:  is a special program language that translate the programming language into a machine code "
   ]
  },
  {
   "cell_type": "markdown",
   "id": "e18aff64",
   "metadata": {},
   "source": [
    "Q12.Python is a interpreted of compiled languagegive a clear answer with your understanding"
   ]
  },
  {
   "cell_type": "markdown",
   "id": "908937b8",
   "metadata": {},
   "source": [
    "Python is a programming language can generate the programme by Source code this source code is compiled into a binary code but \n",
    "this binanry code not run into the machine. this binary code run into python vertiual machine that is interpreted run the programme by reading binary code"
   ]
  },
  {
   "cell_type": "markdown",
   "id": "99c8c274",
   "metadata": {},
   "source": [
    "Q13.Write a usecase of python"
   ]
  },
  {
   "cell_type": "raw",
   "id": "b488cf10",
   "metadata": {},
   "source": [
    "Ans- Data Science , Retail Banking , business service , Machine Learning and AI"
   ]
  },
  {
   "cell_type": "code",
   "execution_count": null,
   "id": "c77ab487",
   "metadata": {},
   "outputs": [],
   "source": []
  }
 ],
 "metadata": {
  "kernelspec": {
   "display_name": "Python 3 (ipykernel)",
   "language": "python",
   "name": "python3"
  },
  "language_info": {
   "codemirror_mode": {
    "name": "ipython",
    "version": 3
   },
   "file_extension": ".py",
   "mimetype": "text/x-python",
   "name": "python",
   "nbconvert_exporter": "python",
   "pygments_lexer": "ipython3",
   "version": "3.9.12"
  }
 },
 "nbformat": 4,
 "nbformat_minor": 5
}
